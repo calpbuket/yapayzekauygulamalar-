{
 "cells": [
  {
   "cell_type": "markdown",
   "metadata": {},
   "source": [
    "### Paketler"
   ]
  },
  {
   "cell_type": "code",
   "execution_count": 1,
   "metadata": {},
   "outputs": [
    {
     "name": "stderr",
     "output_type": "stream",
     "text": [
      "/Library/Frameworks/Python.framework/Versions/3.10/lib/python3.10/site-packages/tqdm/auto.py:21: TqdmWarning: IProgress not found. Please update jupyter and ipywidgets. See https://ipywidgets.readthedocs.io/en/stable/user_install.html\n",
      "  from .autonotebook import tqdm as notebook_tqdm\n"
     ]
    }
   ],
   "source": [
    "import os\n",
    "import torch\n",
    "import optuna\n",
    "import numpy as np\n",
    "import pandas as pd\n",
    "import seaborn as sns\n",
    "import tensorflow as tf\n",
    "from functools import partial\n",
    "from typing import Tuple, Union\n",
    "import matplotlib.pyplot as plt \n",
    "from scikeras.wrappers import KerasRegressor\n",
    "import optuna.visualization as vis\n",
    "from sklearn.compose import ColumnTransformer\n",
    "from sklearn.preprocessing import StandardScaler, OneHotEncoder\n",
    "from sklearn.metrics import r2_score, mean_absolute_error, mean_squared_error\n",
    "from sklearn.model_selection import train_test_split, GridSearchCV, cross_val_score\n",
    "\n",
    "tf.random.set_seed(2002)"
   ]
  },
  {
   "cell_type": "markdown",
   "metadata": {},
   "source": [
    "### Veriyi Tanımlama"
   ]
  },
  {
   "cell_type": "code",
   "execution_count": 2,
   "metadata": {},
   "outputs": [
    {
     "name": "stdout",
     "output_type": "stream",
     "text": [
      "<class 'pandas.core.frame.DataFrame'>\n",
      "RangeIndex: 274 entries, 0 to 273\n",
      "Data columns (total 4 columns):\n",
      " #   Column           Non-Null Count  Dtype  \n",
      "---  ------           --------------  -----  \n",
      " 0   Year             274 non-null    int64  \n",
      " 1   Country          274 non-null    object \n",
      " 2   Spending_USD     274 non-null    float64\n",
      " 3   Life_Expectancy  274 non-null    float64\n",
      "dtypes: float64(2), int64(1), object(1)\n",
      "memory usage: 8.7+ KB\n"
     ]
    },
    {
     "data": {
      "text/html": [
       "<div>\n",
       "<style scoped>\n",
       "    .dataframe tbody tr th:only-of-type {\n",
       "        vertical-align: middle;\n",
       "    }\n",
       "\n",
       "    .dataframe tbody tr th {\n",
       "        vertical-align: top;\n",
       "    }\n",
       "\n",
       "    .dataframe thead th {\n",
       "        text-align: right;\n",
       "    }\n",
       "</style>\n",
       "<table border=\"1\" class=\"dataframe\">\n",
       "  <thead>\n",
       "    <tr style=\"text-align: right;\">\n",
       "      <th></th>\n",
       "      <th>Year</th>\n",
       "      <th>Country</th>\n",
       "      <th>Spending_USD</th>\n",
       "      <th>Life_Expectancy</th>\n",
       "    </tr>\n",
       "  </thead>\n",
       "  <tbody>\n",
       "    <tr>\n",
       "      <th>0</th>\n",
       "      <td>1970</td>\n",
       "      <td>Germany</td>\n",
       "      <td>252.311</td>\n",
       "      <td>70.6</td>\n",
       "    </tr>\n",
       "    <tr>\n",
       "      <th>1</th>\n",
       "      <td>1970</td>\n",
       "      <td>France</td>\n",
       "      <td>192.143</td>\n",
       "      <td>72.2</td>\n",
       "    </tr>\n",
       "    <tr>\n",
       "      <th>2</th>\n",
       "      <td>1970</td>\n",
       "      <td>Great Britain</td>\n",
       "      <td>123.993</td>\n",
       "      <td>71.9</td>\n",
       "    </tr>\n",
       "    <tr>\n",
       "      <th>3</th>\n",
       "      <td>1970</td>\n",
       "      <td>Japan</td>\n",
       "      <td>150.437</td>\n",
       "      <td>72.0</td>\n",
       "    </tr>\n",
       "    <tr>\n",
       "      <th>4</th>\n",
       "      <td>1970</td>\n",
       "      <td>USA</td>\n",
       "      <td>326.961</td>\n",
       "      <td>70.9</td>\n",
       "    </tr>\n",
       "  </tbody>\n",
       "</table>\n",
       "</div>"
      ],
      "text/plain": [
       "   Year        Country  Spending_USD  Life_Expectancy\n",
       "0  1970        Germany       252.311             70.6\n",
       "1  1970         France       192.143             72.2\n",
       "2  1970  Great Britain       123.993             71.9\n",
       "3  1970          Japan       150.437             72.0\n",
       "4  1970            USA       326.961             70.9"
      ]
     },
     "execution_count": 2,
     "metadata": {},
     "output_type": "execute_result"
    }
   ],
   "source": [
    "healthexp = sns.load_dataset(\"healthexp\")\n",
    "healthexp.info()\n",
    "healthexp.head()"
   ]
  },
  {
   "cell_type": "markdown",
   "metadata": {},
   "source": [
    "Gösterilen veri kümesi, 1970 yılı için çeşitli ülkelerdeki sağlık harcamaları ve yaşam beklentisi verilerini içermektedir. Dört sütun içermektedir: 'Year', 'Country', 'Spending_USD' ve 'Life_Expectancy', sırasıyla tamsayı, dize ve kayan noktalı sayı veri tipleri. Eksik değer içermeyen 274 girdiden oluşan ve yaklaşık 8,7 KB bellek kaplayan bu Veri, sağlık harcamaları ile yaşam beklentisi arasındaki ilişkiyi araştıran analizler için uygundur."
   ]
  },
  {
   "cell_type": "markdown",
   "metadata": {},
   "source": [
    "####    Outlier'ları ayrıştırma"
   ]
  },
  {
   "cell_type": "code",
   "execution_count": 3,
   "metadata": {},
   "outputs": [
    {
     "name": "stdout",
     "output_type": "stream",
     "text": [
      "     Year        Country  Spending_USD  Life_Expectancy\n",
      "0    1970        Germany       252.311             70.6\n",
      "1    1970         France       192.143             72.2\n",
      "2    1970  Great Britain       123.993             71.9\n",
      "3    1970          Japan       150.437             72.0\n",
      "4    1970            USA       326.961             70.9\n",
      "..    ...            ...           ...              ...\n",
      "268  2020         Canada      5828.324             81.7\n",
      "269  2020        Germany      6938.983             81.1\n",
      "270  2020         France      5468.418             82.3\n",
      "271  2020  Great Britain      5018.700             80.4\n",
      "272  2020          Japan      4665.641             84.7\n",
      "\n",
      "[267 rows x 4 columns]\n"
     ]
    }
   ],
   "source": [
    "def remove_outliers(df, column):\n",
    "    Q1 = df[column].quantile(0.25)\n",
    "    Q3 = df[column].quantile(0.75)\n",
    "    IQR = Q3 - Q1\n",
    "    lower_bound = Q1 - 1.5 * IQR\n",
    "    upper_bound = Q3 + 1.5 * IQR\n",
    "    return df[(df[column] >= lower_bound) & (df[column] <= upper_bound)]\n",
    "\n",
    "\n",
    "healthexp = remove_outliers(healthexp, 'Spending_USD')\n",
    "healthexp = remove_outliers(healthexp, 'Life_Expectancy')\n",
    "\n",
    "\n",
    "print(healthexp)"
   ]
  },
  {
   "cell_type": "code",
   "execution_count": 4,
   "metadata": {},
   "outputs": [
    {
     "data": {
      "text/html": [
       "<div>\n",
       "<style scoped>\n",
       "    .dataframe tbody tr th:only-of-type {\n",
       "        vertical-align: middle;\n",
       "    }\n",
       "\n",
       "    .dataframe tbody tr th {\n",
       "        vertical-align: top;\n",
       "    }\n",
       "\n",
       "    .dataframe thead th {\n",
       "        text-align: right;\n",
       "    }\n",
       "</style>\n",
       "<table border=\"1\" class=\"dataframe\">\n",
       "  <thead>\n",
       "    <tr style=\"text-align: right;\">\n",
       "      <th></th>\n",
       "      <th>Year</th>\n",
       "      <th>Spending_USD</th>\n",
       "      <th>Life_Expectancy</th>\n",
       "      <th>Country_Canada</th>\n",
       "      <th>Country_France</th>\n",
       "      <th>Country_Germany</th>\n",
       "      <th>Country_Great Britain</th>\n",
       "      <th>Country_Japan</th>\n",
       "      <th>Country_USA</th>\n",
       "    </tr>\n",
       "  </thead>\n",
       "  <tbody>\n",
       "    <tr>\n",
       "      <th>0</th>\n",
       "      <td>1970</td>\n",
       "      <td>252.311</td>\n",
       "      <td>70.6</td>\n",
       "      <td>False</td>\n",
       "      <td>False</td>\n",
       "      <td>True</td>\n",
       "      <td>False</td>\n",
       "      <td>False</td>\n",
       "      <td>False</td>\n",
       "    </tr>\n",
       "    <tr>\n",
       "      <th>1</th>\n",
       "      <td>1970</td>\n",
       "      <td>192.143</td>\n",
       "      <td>72.2</td>\n",
       "      <td>False</td>\n",
       "      <td>True</td>\n",
       "      <td>False</td>\n",
       "      <td>False</td>\n",
       "      <td>False</td>\n",
       "      <td>False</td>\n",
       "    </tr>\n",
       "    <tr>\n",
       "      <th>2</th>\n",
       "      <td>1970</td>\n",
       "      <td>123.993</td>\n",
       "      <td>71.9</td>\n",
       "      <td>False</td>\n",
       "      <td>False</td>\n",
       "      <td>False</td>\n",
       "      <td>True</td>\n",
       "      <td>False</td>\n",
       "      <td>False</td>\n",
       "    </tr>\n",
       "    <tr>\n",
       "      <th>3</th>\n",
       "      <td>1970</td>\n",
       "      <td>150.437</td>\n",
       "      <td>72.0</td>\n",
       "      <td>False</td>\n",
       "      <td>False</td>\n",
       "      <td>False</td>\n",
       "      <td>False</td>\n",
       "      <td>True</td>\n",
       "      <td>False</td>\n",
       "    </tr>\n",
       "    <tr>\n",
       "      <th>4</th>\n",
       "      <td>1970</td>\n",
       "      <td>326.961</td>\n",
       "      <td>70.9</td>\n",
       "      <td>False</td>\n",
       "      <td>False</td>\n",
       "      <td>False</td>\n",
       "      <td>False</td>\n",
       "      <td>False</td>\n",
       "      <td>True</td>\n",
       "    </tr>\n",
       "  </tbody>\n",
       "</table>\n",
       "</div>"
      ],
      "text/plain": [
       "   Year  Spending_USD  Life_Expectancy  Country_Canada  Country_France  \\\n",
       "0  1970       252.311             70.6           False           False   \n",
       "1  1970       192.143             72.2           False            True   \n",
       "2  1970       123.993             71.9           False           False   \n",
       "3  1970       150.437             72.0           False           False   \n",
       "4  1970       326.961             70.9           False           False   \n",
       "\n",
       "   Country_Germany  Country_Great Britain  Country_Japan  Country_USA  \n",
       "0             True                  False          False        False  \n",
       "1            False                  False          False        False  \n",
       "2            False                   True          False        False  \n",
       "3            False                  False           True        False  \n",
       "4            False                  False          False         True  "
      ]
     },
     "execution_count": 4,
     "metadata": {},
     "output_type": "execute_result"
    }
   ],
   "source": [
    "healthexp = pd.get_dummies(healthexp)\n",
    "healthexp.head().T"
   ]
  },
  {
   "cell_type": "markdown",
   "metadata": {},
   "source": [
    "### Veri optimizasyonu "
   ]
  },
  {
   "cell_type": "code",
   "execution_count": 5,
   "metadata": {},
   "outputs": [],
   "source": [
    "X = healthexp.drop([\"Life_Expectancy\"] , axis=1)\n",
    "y = healthexp[\"Life_Expectancy\"]\n",
    "X = np.array(X, dtype=np.float32)\n",
    "y = np.array(y, dtype=np.float32)"
   ]
  },
  {
   "cell_type": "code",
   "execution_count": 6,
   "metadata": {},
   "outputs": [],
   "source": [
    "X_train, X_test, y_train, y_test = train_test_split(X,y, test_size=0.2 , random_state=2002)"
   ]
  },
  {
   "cell_type": "markdown",
   "metadata": {},
   "source": [
    "### Optuna "
   ]
  },
  {
   "cell_type": "code",
   "execution_count": 7,
   "metadata": {},
   "outputs": [],
   "source": [
    "def objective(trial):\n",
    "    n_layers = trial.suggest_int('n_layers', 1, 3)\n",
    "    optimizer = tf.keras.optimizers.legacy.Adam(learning_rate=trial.suggest_float('lr', 1e-5, 1e-1, log=True))\n",
    "\n",
    "    model = tf.keras.Sequential()\n",
    "    model.add(tf.keras.layers.InputLayer(input_shape=(X_train.shape[1],)))\n",
    "    for i in range(n_layers):\n",
    "        num_hidden = trial.suggest_int('n_units_l{}'.format(i), 4, 128, log=True)\n",
    "        model.add(tf.keras.layers.Dense(num_hidden, activation='relu'))\n",
    "    model.add(tf.keras.layers.Dense(1))\n",
    "\n",
    "    model.compile(optimizer=optimizer, loss='mean_squared_error')\n",
    "    model.fit(X_train, y_train, validation_data=(X_test, y_test), epochs=50, verbose=0, batch_size=32)\n",
    "\n",
    "    loss = model.evaluate(X_test, y_test, verbose=0)\n",
    "    return loss"
   ]
  },
  {
   "cell_type": "markdown",
   "metadata": {},
   "source": [
    "### HyperParameters Tuning"
   ]
  },
  {
   "cell_type": "code",
   "execution_count": 8,
   "metadata": {},
   "outputs": [
    {
     "name": "stderr",
     "output_type": "stream",
     "text": [
      "[I 2024-05-28 11:02:58,201] A new study created in memory with name: no-name-0160fad2-dd31-4531-985e-2aa637ca106a\n",
      "2024-05-28 11:02:58.206543: I metal_plugin/src/device/metal_device.cc:1154] Metal device set to: Apple M1\n",
      "2024-05-28 11:02:58.206572: I metal_plugin/src/device/metal_device.cc:296] systemMemory: 16.00 GB\n",
      "2024-05-28 11:02:58.206579: I metal_plugin/src/device/metal_device.cc:313] maxCacheSize: 5.33 GB\n",
      "2024-05-28 11:02:58.206614: I tensorflow/core/common_runtime/pluggable_device/pluggable_device_factory.cc:306] Could not identify NUMA node of platform GPU ID 0, defaulting to 0. Your kernel may not have been built with NUMA support.\n",
      "2024-05-28 11:02:58.206635: I tensorflow/core/common_runtime/pluggable_device/pluggable_device_factory.cc:272] Created TensorFlow device (/job:localhost/replica:0/task:0/device:GPU:0 with 0 MB memory) -> physical PluggableDevice (device: 0, name: METAL, pci bus id: <undefined>)\n",
      "2024-05-28 11:02:58.655827: I tensorflow/core/grappler/optimizers/custom_graph_optimizer_registry.cc:117] Plugin optimizer for device_type GPU is enabled.\n",
      "[I 2024-05-28 11:03:01,846] Trial 0 finished with value: 22.786693572998047 and parameters: {'n_layers': 2, 'lr': 0.00015457296302284965, 'n_units_l0': 23, 'n_units_l1': 22}. Best is trial 0 with value: 22.786693572998047.\n",
      "[I 2024-05-28 11:03:05,470] Trial 1 finished with value: 731764.0 and parameters: {'n_layers': 3, 'lr': 2.5500464779983668e-05, 'n_units_l0': 51, 'n_units_l1': 4, 'n_units_l2': 4}. Best is trial 0 with value: 22.786693572998047.\n",
      "[I 2024-05-28 11:03:08,566] Trial 2 finished with value: 20272.9921875 and parameters: {'n_layers': 1, 'lr': 0.0003714847540051114, 'n_units_l0': 7}. Best is trial 0 with value: 22.786693572998047.\n",
      "[I 2024-05-28 11:03:11,946] Trial 3 finished with value: 22.036657333374023 and parameters: {'n_layers': 2, 'lr': 0.007465140220666865, 'n_units_l0': 11, 'n_units_l1': 14}. Best is trial 3 with value: 22.036657333374023.\n",
      "[I 2024-05-28 11:03:15,291] Trial 4 finished with value: 4.110732078552246 and parameters: {'n_layers': 2, 'lr': 0.0001931162005945861, 'n_units_l0': 120, 'n_units_l1': 102}. Best is trial 4 with value: 4.110732078552246.\n",
      "[I 2024-05-28 11:03:18,645] Trial 5 finished with value: 2302.762451171875 and parameters: {'n_layers': 2, 'lr': 0.0010282054943065503, 'n_units_l0': 18, 'n_units_l1': 8}. Best is trial 4 with value: 4.110732078552246.\n",
      "[I 2024-05-28 11:03:21,696] Trial 6 finished with value: 3790900.5 and parameters: {'n_layers': 1, 'lr': 1.241728701722955e-05, 'n_units_l0': 39}. Best is trial 4 with value: 4.110732078552246.\n",
      "[I 2024-05-28 11:03:24,660] Trial 7 finished with value: 9.59597110748291 and parameters: {'n_layers': 1, 'lr': 0.01790611720434402, 'n_units_l0': 39}. Best is trial 4 with value: 4.110732078552246.\n",
      "[I 2024-05-28 11:03:28,276] Trial 8 finished with value: 5.080456256866455 and parameters: {'n_layers': 3, 'lr': 0.0014072395324197756, 'n_units_l0': 103, 'n_units_l1': 4, 'n_units_l2': 81}. Best is trial 4 with value: 4.110732078552246.\n",
      "[I 2024-05-28 11:03:31,282] Trial 9 finished with value: 4.066506385803223 and parameters: {'n_layers': 1, 'lr': 0.0025707564602043625, 'n_units_l0': 23}. Best is trial 9 with value: 4.066506385803223.\n",
      "[I 2024-05-28 11:03:34,962] Trial 10 finished with value: 4.79310417175293 and parameters: {'n_layers': 3, 'lr': 3.427743473665078e-05, 'n_units_l0': 89, 'n_units_l1': 57, 'n_units_l2': 92}. Best is trial 9 with value: 4.066506385803223.\n",
      "[I 2024-05-28 11:03:38,333] Trial 11 finished with value: 4.055319786071777 and parameters: {'n_layers': 2, 'lr': 0.0006027116006775581, 'n_units_l0': 11, 'n_units_l1': 15}. Best is trial 11 with value: 4.055319786071777.\n",
      "[I 2024-05-28 11:03:41,401] Trial 12 finished with value: 83852.8359375 and parameters: {'n_layers': 1, 'lr': 4.2441030193391816e-05, 'n_units_l0': 28}. Best is trial 11 with value: 4.055319786071777.\n",
      "[I 2024-05-28 11:03:45,039] Trial 13 finished with value: 265991.21875 and parameters: {'n_layers': 3, 'lr': 2.0307409483554717e-05, 'n_units_l0': 19, 'n_units_l1': 35, 'n_units_l2': 47}. Best is trial 11 with value: 4.055319786071777.\n",
      "[I 2024-05-28 11:03:48,787] Trial 14 finished with value: 301.7332458496094 and parameters: {'n_layers': 3, 'lr': 0.0004597990278377325, 'n_units_l0': 4, 'n_units_l1': 22, 'n_units_l2': 7}. Best is trial 11 with value: 4.055319786071777.\n",
      "[I 2024-05-28 11:03:51,936] Trial 15 finished with value: 23.301801681518555 and parameters: {'n_layers': 1, 'lr': 0.025273052148561004, 'n_units_l0': 126}. Best is trial 11 with value: 4.055319786071777.\n",
      "[I 2024-05-28 11:03:56,104] Trial 16 finished with value: 4.165621280670166 and parameters: {'n_layers': 2, 'lr': 0.014290692494851513, 'n_units_l0': 37, 'n_units_l1': 13}. Best is trial 11 with value: 4.055319786071777.\n",
      "[I 2024-05-28 11:03:59,282] Trial 17 finished with value: 51.887210845947266 and parameters: {'n_layers': 1, 'lr': 0.051093041351656716, 'n_units_l0': 17}. Best is trial 11 with value: 4.055319786071777.\n",
      "[I 2024-05-28 11:04:02,379] Trial 18 finished with value: 11.236342430114746 and parameters: {'n_layers': 1, 'lr': 0.0035855927516638153, 'n_units_l0': 12}. Best is trial 11 with value: 4.055319786071777.\n",
      "[I 2024-05-28 11:04:05,537] Trial 19 finished with value: 29.418275833129883 and parameters: {'n_layers': 1, 'lr': 0.010762657091227274, 'n_units_l0': 97}. Best is trial 11 with value: 4.055319786071777.\n",
      "[I 2024-05-28 11:04:09,233] Trial 20 finished with value: 8.076488494873047 and parameters: {'n_layers': 3, 'lr': 0.0010185604261662151, 'n_units_l0': 18, 'n_units_l1': 95, 'n_units_l2': 25}. Best is trial 11 with value: 4.055319786071777.\n",
      "[I 2024-05-28 11:04:12,610] Trial 21 finished with value: 4.631971836090088 and parameters: {'n_layers': 2, 'lr': 0.012984396296980748, 'n_units_l0': 4, 'n_units_l1': 6}. Best is trial 11 with value: 4.055319786071777.\n",
      "[I 2024-05-28 11:04:15,651] Trial 22 finished with value: 3.937185287475586 and parameters: {'n_layers': 1, 'lr': 0.012345253349512047, 'n_units_l0': 6}. Best is trial 22 with value: 3.937185287475586.\n",
      "[I 2024-05-28 11:04:19,036] Trial 23 finished with value: 567576.8125 and parameters: {'n_layers': 2, 'lr': 1.0102286844276744e-05, 'n_units_l0': 38, 'n_units_l1': 23}. Best is trial 22 with value: 3.937185287475586.\n",
      "[I 2024-05-28 11:04:22,454] Trial 24 finished with value: 5.021896839141846 and parameters: {'n_layers': 2, 'lr': 0.0001434475004886469, 'n_units_l0': 107, 'n_units_l1': 76}. Best is trial 22 with value: 3.937185287475586.\n",
      "[I 2024-05-28 11:04:26,169] Trial 25 finished with value: 4.2018818855285645 and parameters: {'n_layers': 3, 'lr': 6.174390273292291e-05, 'n_units_l0': 8, 'n_units_l1': 14, 'n_units_l2': 76}. Best is trial 22 with value: 3.937185287475586.\n",
      "[I 2024-05-28 11:04:29,385] Trial 26 finished with value: 19274.4765625 and parameters: {'n_layers': 1, 'lr': 0.00011547185466760182, 'n_units_l0': 65}. Best is trial 22 with value: 3.937185287475586.\n",
      "[I 2024-05-28 11:04:32,470] Trial 27 finished with value: 2376730.0 and parameters: {'n_layers': 1, 'lr': 3.452427283907102e-05, 'n_units_l0': 13}. Best is trial 22 with value: 3.937185287475586.\n",
      "[I 2024-05-28 11:04:35,654] Trial 28 finished with value: 45.809417724609375 and parameters: {'n_layers': 1, 'lr': 0.07041704252193945, 'n_units_l0': 48}. Best is trial 22 with value: 3.937185287475586.\n",
      "[I 2024-05-28 11:04:39,557] Trial 29 finished with value: 4.596576690673828 and parameters: {'n_layers': 3, 'lr': 0.019180123407484973, 'n_units_l0': 5, 'n_units_l1': 45, 'n_units_l2': 19}. Best is trial 22 with value: 3.937185287475586.\n",
      "[I 2024-05-28 11:04:43,137] Trial 30 finished with value: 116769.859375 and parameters: {'n_layers': 2, 'lr': 2.875661063969648e-05, 'n_units_l0': 18, 'n_units_l1': 20}. Best is trial 22 with value: 3.937185287475586.\n",
      "[I 2024-05-28 11:04:46,585] Trial 31 finished with value: 4789.59912109375 and parameters: {'n_layers': 2, 'lr': 1.3530055884609009e-05, 'n_units_l0': 8, 'n_units_l1': 17}. Best is trial 22 with value: 3.937185287475586.\n",
      "[I 2024-05-28 11:04:50,479] Trial 32 finished with value: 4.486886978149414 and parameters: {'n_layers': 3, 'lr': 0.00021894903623082796, 'n_units_l0': 107, 'n_units_l1': 119, 'n_units_l2': 16}. Best is trial 22 with value: 3.937185287475586.\n",
      "[I 2024-05-28 11:04:54,121] Trial 33 finished with value: 5.139632701873779 and parameters: {'n_layers': 2, 'lr': 0.000446270425902255, 'n_units_l0': 36, 'n_units_l1': 111}. Best is trial 22 with value: 3.937185287475586.\n",
      "[I 2024-05-28 11:04:57,754] Trial 34 finished with value: 67472.3671875 and parameters: {'n_layers': 2, 'lr': 0.00014597231063535234, 'n_units_l0': 6, 'n_units_l1': 12}. Best is trial 22 with value: 3.937185287475586.\n",
      "[I 2024-05-28 11:05:01,760] Trial 35 finished with value: 1184043.875 and parameters: {'n_layers': 3, 'lr': 1.0489622721705245e-05, 'n_units_l0': 4, 'n_units_l1': 5, 'n_units_l2': 10}. Best is trial 22 with value: 3.937185287475586.\n",
      "[I 2024-05-28 11:05:05,168] Trial 36 finished with value: 5.333263874053955 and parameters: {'n_layers': 1, 'lr': 0.003742762694550723, 'n_units_l0': 22}. Best is trial 22 with value: 3.937185287475586.\n",
      "[I 2024-05-28 11:05:09,074] Trial 37 finished with value: 4.463429927825928 and parameters: {'n_layers': 3, 'lr': 0.004320403794978749, 'n_units_l0': 15, 'n_units_l1': 8, 'n_units_l2': 10}. Best is trial 22 with value: 3.937185287475586.\n",
      "[I 2024-05-28 11:05:13,094] Trial 38 finished with value: 1208199.5 and parameters: {'n_layers': 3, 'lr': 1.3593398723942521e-05, 'n_units_l0': 11, 'n_units_l1': 36, 'n_units_l2': 24}. Best is trial 22 with value: 3.937185287475586.\n",
      "[I 2024-05-28 11:05:16,807] Trial 39 finished with value: 840532.5625 and parameters: {'n_layers': 2, 'lr': 1.1568839464820211e-05, 'n_units_l0': 8, 'n_units_l1': 64}. Best is trial 22 with value: 3.937185287475586.\n",
      "[I 2024-05-28 11:05:20,576] Trial 40 finished with value: 4.620253562927246 and parameters: {'n_layers': 2, 'lr': 0.0004540198757080958, 'n_units_l0': 56, 'n_units_l1': 63}. Best is trial 22 with value: 3.937185287475586.\n",
      "[I 2024-05-28 11:05:25,278] Trial 41 finished with value: 9.91607666015625 and parameters: {'n_layers': 2, 'lr': 0.03514189258789115, 'n_units_l0': 20, 'n_units_l1': 56}. Best is trial 22 with value: 3.937185287475586.\n",
      "[I 2024-05-28 11:05:29,054] Trial 42 finished with value: 4.980350971221924 and parameters: {'n_layers': 3, 'lr': 0.00023446808429803081, 'n_units_l0': 17, 'n_units_l1': 35, 'n_units_l2': 58}. Best is trial 22 with value: 3.937185287475586.\n",
      "[I 2024-05-28 11:05:32,772] Trial 43 finished with value: 4.793745040893555 and parameters: {'n_layers': 3, 'lr': 0.0002206982465410241, 'n_units_l0': 19, 'n_units_l1': 59, 'n_units_l2': 46}. Best is trial 22 with value: 3.937185287475586.\n",
      "[I 2024-05-28 11:05:35,895] Trial 44 finished with value: 2216390.25 and parameters: {'n_layers': 1, 'lr': 1.1709013376792679e-05, 'n_units_l0': 38}. Best is trial 22 with value: 3.937185287475586.\n",
      "[I 2024-05-28 11:05:39,697] Trial 45 finished with value: 5.2136454582214355 and parameters: {'n_layers': 3, 'lr': 0.0008548080908488782, 'n_units_l0': 50, 'n_units_l1': 67, 'n_units_l2': 44}. Best is trial 22 with value: 3.937185287475586.\n",
      "[I 2024-05-28 11:05:43,171] Trial 46 finished with value: 7.45611572265625 and parameters: {'n_layers': 2, 'lr': 0.002227999712842781, 'n_units_l0': 92, 'n_units_l1': 46}. Best is trial 22 with value: 3.937185287475586.\n",
      "[I 2024-05-28 11:05:46,885] Trial 47 finished with value: 6.484100341796875 and parameters: {'n_layers': 3, 'lr': 0.002968481863089139, 'n_units_l0': 26, 'n_units_l1': 94, 'n_units_l2': 28}. Best is trial 22 with value: 3.937185287475586.\n",
      "[I 2024-05-28 11:05:50,048] Trial 48 finished with value: 1530797.875 and parameters: {'n_layers': 1, 'lr': 6.869671735865732e-05, 'n_units_l0': 30}. Best is trial 22 with value: 3.937185287475586.\n",
      "[I 2024-05-28 11:05:53,779] Trial 49 finished with value: 5.7605156898498535 and parameters: {'n_layers': 3, 'lr': 0.01198762377088169, 'n_units_l0': 5, 'n_units_l1': 24, 'n_units_l2': 35}. Best is trial 22 with value: 3.937185287475586.\n",
      "[I 2024-05-28 11:05:57,249] Trial 50 finished with value: 13261.7119140625 and parameters: {'n_layers': 2, 'lr': 1.08761556213941e-05, 'n_units_l0': 111, 'n_units_l1': 6}. Best is trial 22 with value: 3.937185287475586.\n",
      "[I 2024-05-28 11:06:00,934] Trial 51 finished with value: 409911.9375 and parameters: {'n_layers': 3, 'lr': 5.4413015516186286e-05, 'n_units_l0': 5, 'n_units_l1': 4, 'n_units_l2': 18}. Best is trial 22 with value: 3.937185287475586.\n",
      "[I 2024-05-28 11:06:03,999] Trial 52 finished with value: 133.885009765625 and parameters: {'n_layers': 1, 'lr': 4.441470411587773e-05, 'n_units_l0': 126}. Best is trial 22 with value: 3.937185287475586.\n",
      "[I 2024-05-28 11:06:07,504] Trial 53 finished with value: 4.199552536010742 and parameters: {'n_layers': 2, 'lr': 0.0017619230523805815, 'n_units_l0': 16, 'n_units_l1': 39}. Best is trial 22 with value: 3.937185287475586.\n",
      "[I 2024-05-28 11:06:11,194] Trial 54 finished with value: 34475.05078125 and parameters: {'n_layers': 3, 'lr': 0.03494841574599398, 'n_units_l0': 22, 'n_units_l1': 50, 'n_units_l2': 24}. Best is trial 22 with value: 3.937185287475586.\n",
      "[I 2024-05-28 11:06:14,707] Trial 55 finished with value: 4.786653518676758 and parameters: {'n_layers': 2, 'lr': 3.6882587688025614e-05, 'n_units_l0': 109, 'n_units_l1': 25}. Best is trial 22 with value: 3.937185287475586.\n",
      "[I 2024-05-28 11:06:18,196] Trial 56 finished with value: 1806232.875 and parameters: {'n_layers': 2, 'lr': 0.00015241888515822496, 'n_units_l0': 5, 'n_units_l1': 17}. Best is trial 22 with value: 3.937185287475586.\n",
      "[I 2024-05-28 11:06:21,449] Trial 57 finished with value: 3.9940643310546875 and parameters: {'n_layers': 1, 'lr': 0.00214772279170203, 'n_units_l0': 40}. Best is trial 22 with value: 3.937185287475586.\n",
      "[I 2024-05-28 11:06:24,526] Trial 58 finished with value: 15.237415313720703 and parameters: {'n_layers': 1, 'lr': 3.6509398977812504e-05, 'n_units_l0': 7}. Best is trial 22 with value: 3.937185287475586.\n",
      "[I 2024-05-28 11:06:28,442] Trial 59 finished with value: 5.876199245452881 and parameters: {'n_layers': 3, 'lr': 0.005450360667862901, 'n_units_l0': 88, 'n_units_l1': 87, 'n_units_l2': 44}. Best is trial 22 with value: 3.937185287475586.\n",
      "[I 2024-05-28 11:06:31,685] Trial 60 finished with value: 4.356552600860596 and parameters: {'n_layers': 1, 'lr': 0.019719501567388272, 'n_units_l0': 7}. Best is trial 22 with value: 3.937185287475586.\n",
      "[I 2024-05-28 11:06:34,953] Trial 61 finished with value: 4.018865585327148 and parameters: {'n_layers': 1, 'lr': 0.06746969103106312, 'n_units_l0': 12}. Best is trial 22 with value: 3.937185287475586.\n",
      "[I 2024-05-28 11:06:38,577] Trial 62 finished with value: 2474682.0 and parameters: {'n_layers': 2, 'lr': 2.930161582618589e-05, 'n_units_l0': 5, 'n_units_l1': 8}. Best is trial 22 with value: 3.937185287475586.\n",
      "[I 2024-05-28 11:06:42,300] Trial 63 finished with value: 200945.3125 and parameters: {'n_layers': 2, 'lr': 3.057314587381575e-05, 'n_units_l0': 16, 'n_units_l1': 11}. Best is trial 22 with value: 3.937185287475586.\n",
      "[I 2024-05-28 11:06:45,501] Trial 64 finished with value: 5.001712322235107 and parameters: {'n_layers': 1, 'lr': 0.00663618700009051, 'n_units_l0': 11}. Best is trial 22 with value: 3.937185287475586.\n",
      "[I 2024-05-28 11:06:49,480] Trial 65 finished with value: 49.244529724121094 and parameters: {'n_layers': 3, 'lr': 0.023239381212817056, 'n_units_l0': 9, 'n_units_l1': 6, 'n_units_l2': 8}. Best is trial 22 with value: 3.937185287475586.\n",
      "[I 2024-05-28 11:06:53,202] Trial 66 finished with value: 4.370091915130615 and parameters: {'n_layers': 2, 'lr': 0.0027406145115247364, 'n_units_l0': 105, 'n_units_l1': 5}. Best is trial 22 with value: 3.937185287475586.\n",
      "[I 2024-05-28 11:06:57,079] Trial 67 finished with value: 190.76513671875 and parameters: {'n_layers': 3, 'lr': 0.06312925980632582, 'n_units_l0': 4, 'n_units_l1': 97, 'n_units_l2': 11}. Best is trial 22 with value: 3.937185287475586.\n",
      "[I 2024-05-28 11:07:00,976] Trial 68 finished with value: 616.0309448242188 and parameters: {'n_layers': 3, 'lr': 0.035082184821350594, 'n_units_l0': 30, 'n_units_l1': 4, 'n_units_l2': 6}. Best is trial 22 with value: 3.937185287475586.\n",
      "[I 2024-05-28 11:07:05,605] Trial 69 finished with value: 24.193038940429688 and parameters: {'n_layers': 1, 'lr': 0.02703341572546782, 'n_units_l0': 87}. Best is trial 22 with value: 3.937185287475586.\n",
      "[I 2024-05-28 11:07:08,904] Trial 70 finished with value: 4.722754001617432 and parameters: {'n_layers': 1, 'lr': 0.0017710535036582035, 'n_units_l0': 18}. Best is trial 22 with value: 3.937185287475586.\n",
      "[I 2024-05-28 11:07:12,600] Trial 71 finished with value: 3094.25830078125 and parameters: {'n_layers': 2, 'lr': 0.048150331112347615, 'n_units_l0': 30, 'n_units_l1': 50}. Best is trial 22 with value: 3.937185287475586.\n",
      "[I 2024-05-28 11:07:16,264] Trial 72 finished with value: 2956267.25 and parameters: {'n_layers': 2, 'lr': 1.549039003268796e-05, 'n_units_l0': 59, 'n_units_l1': 16}. Best is trial 22 with value: 3.937185287475586.\n",
      "[I 2024-05-28 11:07:19,542] Trial 73 finished with value: 23803.546875 and parameters: {'n_layers': 1, 'lr': 0.0006193627071147227, 'n_units_l0': 7}. Best is trial 22 with value: 3.937185287475586.\n",
      "[I 2024-05-28 11:07:22,822] Trial 74 finished with value: 90615.1640625 and parameters: {'n_layers': 1, 'lr': 1.8834549508220647e-05, 'n_units_l0': 9}. Best is trial 22 with value: 3.937185287475586.\n",
      "[I 2024-05-28 11:07:27,893] Trial 75 finished with value: 6.052693843841553 and parameters: {'n_layers': 3, 'lr': 0.04534846514100255, 'n_units_l0': 16, 'n_units_l1': 62, 'n_units_l2': 5}. Best is trial 22 with value: 3.937185287475586.\n",
      "[I 2024-05-28 11:07:31,095] Trial 76 finished with value: 4.5258917808532715 and parameters: {'n_layers': 1, 'lr': 0.0021043826107148976, 'n_units_l0': 12}. Best is trial 22 with value: 3.937185287475586.\n",
      "[I 2024-05-28 11:07:35,194] Trial 77 finished with value: 188727120.0 and parameters: {'n_layers': 3, 'lr': 0.09096631828582762, 'n_units_l0': 74, 'n_units_l1': 19, 'n_units_l2': 128}. Best is trial 22 with value: 3.937185287475586.\n",
      "[I 2024-05-28 11:07:39,148] Trial 78 finished with value: 2968.768798828125 and parameters: {'n_layers': 3, 'lr': 0.0003543395292849692, 'n_units_l0': 7, 'n_units_l1': 24, 'n_units_l2': 12}. Best is trial 22 with value: 3.937185287475586.\n",
      "[I 2024-05-28 11:07:42,934] Trial 79 finished with value: 5.9966511726379395 and parameters: {'n_layers': 2, 'lr': 0.03272617090210836, 'n_units_l0': 55, 'n_units_l1': 5}. Best is trial 22 with value: 3.937185287475586.\n",
      "[I 2024-05-28 11:07:46,694] Trial 80 finished with value: 4.20903205871582 and parameters: {'n_layers': 2, 'lr': 0.001363389637016329, 'n_units_l0': 113, 'n_units_l1': 92}. Best is trial 22 with value: 3.937185287475586.\n",
      "[I 2024-05-28 11:07:49,897] Trial 81 finished with value: 37473.70703125 and parameters: {'n_layers': 1, 'lr': 2.586330944505409e-05, 'n_units_l0': 8}. Best is trial 22 with value: 3.937185287475586.\n",
      "[I 2024-05-28 11:07:54,369] Trial 82 finished with value: 45076.08203125 and parameters: {'n_layers': 1, 'lr': 1.6675899188402314e-05, 'n_units_l0': 31}. Best is trial 22 with value: 3.937185287475586.\n",
      "[I 2024-05-28 11:07:57,590] Trial 83 finished with value: 3.79158878326416 and parameters: {'n_layers': 1, 'lr': 0.003325474573140047, 'n_units_l0': 30}. Best is trial 83 with value: 3.79158878326416.\n",
      "[I 2024-05-28 11:08:02,567] Trial 84 finished with value: 184025.59375 and parameters: {'n_layers': 2, 'lr': 7.475031597491081e-05, 'n_units_l0': 28, 'n_units_l1': 7}. Best is trial 83 with value: 3.79158878326416.\n",
      "[I 2024-05-28 11:08:15,216] Trial 85 finished with value: 5.249022960662842 and parameters: {'n_layers': 3, 'lr': 0.0010940329779361203, 'n_units_l0': 29, 'n_units_l1': 27, 'n_units_l2': 100}. Best is trial 83 with value: 3.79158878326416.\n",
      "[I 2024-05-28 11:08:18,848] Trial 86 finished with value: 66384.4296875 and parameters: {'n_layers': 2, 'lr': 0.09042736876191677, 'n_units_l0': 105, 'n_units_l1': 19}. Best is trial 83 with value: 3.79158878326416.\n",
      "[I 2024-05-28 11:08:33,040] Trial 87 finished with value: 2312512.75 and parameters: {'n_layers': 3, 'lr': 1.1973322821594577e-05, 'n_units_l0': 11, 'n_units_l1': 7, 'n_units_l2': 19}. Best is trial 83 with value: 3.79158878326416.\n",
      "[I 2024-05-28 11:08:48,617] Trial 88 finished with value: 409919.21875 and parameters: {'n_layers': 3, 'lr': 1.4032031020033007e-05, 'n_units_l0': 17, 'n_units_l1': 15, 'n_units_l2': 71}. Best is trial 83 with value: 3.79158878326416.\n",
      "[I 2024-05-28 11:09:03,427] Trial 89 finished with value: 4.477212429046631 and parameters: {'n_layers': 3, 'lr': 0.003820496009499153, 'n_units_l0': 15, 'n_units_l1': 12, 'n_units_l2': 103}. Best is trial 83 with value: 3.79158878326416.\n",
      "[I 2024-05-28 11:09:09,713] Trial 90 finished with value: 4812.17138671875 and parameters: {'n_layers': 3, 'lr': 2.0280887866865684e-05, 'n_units_l0': 112, 'n_units_l1': 8, 'n_units_l2': 19}. Best is trial 83 with value: 3.79158878326416.\n",
      "[I 2024-05-28 11:09:15,311] Trial 91 finished with value: 3382.5224609375 and parameters: {'n_layers': 3, 'lr': 0.059711845890880945, 'n_units_l0': 76, 'n_units_l1': 5, 'n_units_l2': 9}. Best is trial 83 with value: 3.79158878326416.\n",
      "[I 2024-05-28 11:09:18,749] Trial 92 finished with value: 1981210.125 and parameters: {'n_layers': 1, 'lr': 4.733469907897196e-05, 'n_units_l0': 9}. Best is trial 83 with value: 3.79158878326416.\n",
      "[I 2024-05-28 11:09:33,502] Trial 93 finished with value: 4.1717400550842285 and parameters: {'n_layers': 3, 'lr': 0.0026744558416721426, 'n_units_l0': 8, 'n_units_l1': 32, 'n_units_l2': 18}. Best is trial 83 with value: 3.79158878326416.\n",
      "[I 2024-05-28 11:09:47,019] Trial 94 finished with value: 4.8839111328125 and parameters: {'n_layers': 1, 'lr': 0.007557177025758843, 'n_units_l0': 6}. Best is trial 83 with value: 3.79158878326416.\n",
      "[I 2024-05-28 11:10:08,151] Trial 95 finished with value: 607.9805908203125 and parameters: {'n_layers': 3, 'lr': 0.003127423311905877, 'n_units_l0': 113, 'n_units_l1': 6, 'n_units_l2': 5}. Best is trial 83 with value: 3.79158878326416.\n",
      "[I 2024-05-28 11:10:26,652] Trial 96 finished with value: 113.99378204345703 and parameters: {'n_layers': 2, 'lr': 0.08641699115911995, 'n_units_l0': 26, 'n_units_l1': 110}. Best is trial 83 with value: 3.79158878326416.\n",
      "[I 2024-05-28 11:11:03,005] Trial 97 finished with value: 5.3418498039245605 and parameters: {'n_layers': 3, 'lr': 0.011532163376621624, 'n_units_l0': 4, 'n_units_l1': 17, 'n_units_l2': 12}. Best is trial 83 with value: 3.79158878326416.\n",
      "[I 2024-05-28 11:11:11,992] Trial 98 finished with value: 4.747237205505371 and parameters: {'n_layers': 1, 'lr': 0.0010817590838594548, 'n_units_l0': 77}. Best is trial 83 with value: 3.79158878326416.\n",
      "[I 2024-05-28 11:11:34,481] Trial 99 finished with value: 7.102921485900879 and parameters: {'n_layers': 3, 'lr': 6.713339530196536e-05, 'n_units_l0': 28, 'n_units_l1': 50, 'n_units_l2': 16}. Best is trial 83 with value: 3.79158878326416.\n",
      "[I 2024-05-28 11:11:44,338] Trial 100 finished with value: 1579.8836669921875 and parameters: {'n_layers': 3, 'lr': 0.016242598979456593, 'n_units_l0': 4, 'n_units_l1': 99, 'n_units_l2': 31}. Best is trial 83 with value: 3.79158878326416.\n",
      "[I 2024-05-28 11:12:11,621] Trial 101 finished with value: 6.100226402282715 and parameters: {'n_layers': 1, 'lr': 0.0011808821505596575, 'n_units_l0': 42}. Best is trial 83 with value: 3.79158878326416.\n",
      "[I 2024-05-28 11:12:15,820] Trial 102 finished with value: 4.481357097625732 and parameters: {'n_layers': 1, 'lr': 0.0003529244909921579, 'n_units_l0': 87}. Best is trial 83 with value: 3.79158878326416.\n",
      "[I 2024-05-28 11:12:28,862] Trial 103 finished with value: 552285.125 and parameters: {'n_layers': 3, 'lr': 1.844789026256391e-05, 'n_units_l0': 41, 'n_units_l1': 8, 'n_units_l2': 43}. Best is trial 83 with value: 3.79158878326416.\n",
      "[I 2024-05-28 11:12:37,564] Trial 104 finished with value: 51412.93359375 and parameters: {'n_layers': 1, 'lr': 6.662114036734315e-05, 'n_units_l0': 20}. Best is trial 83 with value: 3.79158878326416.\n",
      "[I 2024-05-28 11:13:01,860] Trial 105 finished with value: 4458.3212890625 and parameters: {'n_layers': 3, 'lr': 9.884894926505522e-05, 'n_units_l0': 5, 'n_units_l1': 17, 'n_units_l2': 76}. Best is trial 83 with value: 3.79158878326416.\n",
      "[I 2024-05-28 11:13:11,068] Trial 106 finished with value: 9.853043556213379 and parameters: {'n_layers': 2, 'lr': 0.003259289519461839, 'n_units_l0': 49, 'n_units_l1': 21}. Best is trial 83 with value: 3.79158878326416.\n",
      "[I 2024-05-28 11:14:01,028] Trial 107 finished with value: 3.525629758834839 and parameters: {'n_layers': 3, 'lr': 0.00013610255209828176, 'n_units_l0': 12, 'n_units_l1': 104, 'n_units_l2': 6}. Best is trial 107 with value: 3.525629758834839.\n",
      "[I 2024-05-28 11:14:26,952] Trial 108 finished with value: 967.0300903320312 and parameters: {'n_layers': 3, 'lr': 0.00010970407524248159, 'n_units_l0': 46, 'n_units_l1': 4, 'n_units_l2': 23}. Best is trial 107 with value: 3.525629758834839.\n",
      "[I 2024-05-28 11:14:33,640] Trial 109 finished with value: 5.209401607513428 and parameters: {'n_layers': 1, 'lr': 0.01424362712645233, 'n_units_l0': 7}. Best is trial 107 with value: 3.525629758834839.\n",
      "[I 2024-05-28 11:15:18,080] Trial 110 finished with value: 5.606164455413818 and parameters: {'n_layers': 3, 'lr': 0.0020800763081838046, 'n_units_l0': 5, 'n_units_l1': 55, 'n_units_l2': 10}. Best is trial 107 with value: 3.525629758834839.\n"
     ]
    },
    {
     "name": "stdout",
     "output_type": "stream",
     "text": [
      "Best trial: {'n_layers': 3, 'lr': 0.00013610255209828176, 'n_units_l0': 12, 'n_units_l1': 104, 'n_units_l2': 6}\n"
     ]
    }
   ],
   "source": [
    "study = optuna.create_study(direction='minimize', sampler= optuna.samplers.RandomSampler(seed=2002))\n",
    "study.optimize(objective, n_trials=111)\n",
    "\n",
    "print('Best trial:', study.best_trial.params)"
   ]
  },
  {
   "cell_type": "code",
   "execution_count": 9,
   "metadata": {},
   "outputs": [],
   "source": [
    "best_params = study.best_trial.params\n",
    "\n",
    "def build_model():\n",
    "    model = tf.keras.Sequential()\n",
    "    model.add(tf.keras.layers.InputLayer(input_shape=(X_train.shape[1],)))\n",
    "    for i in range(best_params['n_layers']):\n",
    "        model.add(tf.keras.layers.Dense(best_params[f'n_units_l{i}'], activation='relu'))\n",
    "    model.add(tf.keras.layers.Dense(1))\n",
    "    optimizer = tf.keras.optimizers.legacy.Adam(learning_rate=best_params['lr'])\n",
    "    model.compile(optimizer=optimizer, loss='mean_squared_error')\n",
    "    return model"
   ]
  },
  {
   "cell_type": "code",
   "execution_count": 10,
   "metadata": {},
   "outputs": [
    {
     "name": "stdout",
     "output_type": "stream",
     "text": [
      "Epoch 1/1000\n",
      "7/7 [==============================] - 3s 302ms/step - loss: 363513.5625 - val_loss: 301336.8438\n",
      "Epoch 2/1000\n",
      "7/7 [==============================] - 1s 161ms/step - loss: 269259.0625 - val_loss: 222899.8906\n",
      "Epoch 3/1000\n",
      "7/7 [==============================] - 1s 174ms/step - loss: 203129.5469 - val_loss: 175185.3281\n",
      "Epoch 4/1000\n",
      "7/7 [==============================] - 1s 174ms/step - loss: 165278.2500 - val_loss: 146221.2500\n",
      "Epoch 5/1000\n",
      "7/7 [==============================] - 1s 204ms/step - loss: 140560.6406 - val_loss: 127750.1094\n",
      "Epoch 6/1000\n",
      "7/7 [==============================] - 1s 171ms/step - loss: 124778.6562 - val_loss: 115326.4688\n",
      "Epoch 7/1000\n",
      "7/7 [==============================] - 1s 218ms/step - loss: 114356.2422 - val_loss: 106399.8828\n",
      "Epoch 8/1000\n",
      "7/7 [==============================] - 2s 233ms/step - loss: 105194.6016 - val_loss: 98627.7656\n",
      "Epoch 9/1000\n",
      "7/7 [==============================] - 1s 209ms/step - loss: 98153.3828 - val_loss: 91613.7188\n",
      "Epoch 10/1000\n",
      "7/7 [==============================] - 1s 194ms/step - loss: 91070.2812 - val_loss: 84882.2969\n",
      "Epoch 11/1000\n",
      "7/7 [==============================] - 1s 220ms/step - loss: 84177.8438 - val_loss: 78301.7500\n",
      "Epoch 12/1000\n",
      "7/7 [==============================] - 1s 198ms/step - loss: 77279.5312 - val_loss: 71665.5312\n",
      "Epoch 13/1000\n",
      "7/7 [==============================] - 1s 202ms/step - loss: 70821.9141 - val_loss: 65234.4336\n",
      "Epoch 14/1000\n",
      "7/7 [==============================] - 1s 219ms/step - loss: 64281.3633 - val_loss: 58712.1836\n",
      "Epoch 15/1000\n",
      "7/7 [==============================] - 1s 190ms/step - loss: 57031.1914 - val_loss: 51990.6523\n",
      "Epoch 16/1000\n",
      "7/7 [==============================] - 1s 185ms/step - loss: 50475.9688 - val_loss: 45698.6523\n",
      "Epoch 17/1000\n",
      "7/7 [==============================] - 1s 190ms/step - loss: 44501.4844 - val_loss: 39424.0664\n",
      "Epoch 18/1000\n",
      "7/7 [==============================] - 1s 217ms/step - loss: 37896.5625 - val_loss: 33463.4336\n",
      "Epoch 19/1000\n",
      "7/7 [==============================] - 2s 253ms/step - loss: 31997.3164 - val_loss: 27734.9004\n",
      "Epoch 20/1000\n",
      "7/7 [==============================] - 1s 204ms/step - loss: 26237.3066 - val_loss: 22503.7832\n",
      "Epoch 21/1000\n",
      "7/7 [==============================] - 1s 167ms/step - loss: 21053.7539 - val_loss: 17956.9004\n",
      "Epoch 22/1000\n",
      "7/7 [==============================] - 1s 152ms/step - loss: 16758.1289 - val_loss: 14202.3477\n",
      "Epoch 23/1000\n",
      "7/7 [==============================] - 1s 196ms/step - loss: 13201.7773 - val_loss: 11153.8164\n",
      "Epoch 24/1000\n",
      "7/7 [==============================] - 1s 172ms/step - loss: 10377.9980 - val_loss: 8696.1523\n",
      "Epoch 25/1000\n",
      "7/7 [==============================] - 1s 162ms/step - loss: 8019.0347 - val_loss: 6777.9771\n",
      "Epoch 26/1000\n",
      "7/7 [==============================] - 1s 165ms/step - loss: 6275.7563 - val_loss: 5206.5532\n",
      "Epoch 27/1000\n",
      "7/7 [==============================] - 1s 174ms/step - loss: 4775.4370 - val_loss: 3994.7473\n",
      "Epoch 28/1000\n",
      "7/7 [==============================] - 1s 168ms/step - loss: 3657.2273 - val_loss: 3027.2310\n",
      "Epoch 29/1000\n",
      "7/7 [==============================] - 1s 206ms/step - loss: 2760.7185 - val_loss: 2280.1296\n",
      "Epoch 30/1000\n",
      "7/7 [==============================] - 1s 217ms/step - loss: 2069.0227 - val_loss: 1708.8579\n",
      "Epoch 31/1000\n",
      "7/7 [==============================] - 1s 192ms/step - loss: 1542.1257 - val_loss: 1278.7966\n",
      "Epoch 32/1000\n",
      "7/7 [==============================] - 1s 190ms/step - loss: 1140.2618 - val_loss: 951.3624\n",
      "Epoch 33/1000\n",
      "7/7 [==============================] - 1s 212ms/step - loss: 844.7490 - val_loss: 699.8574\n",
      "Epoch 34/1000\n",
      "7/7 [==============================] - 2s 232ms/step - loss: 617.2733 - val_loss: 512.1622\n",
      "Epoch 35/1000\n",
      "7/7 [==============================] - 1s 163ms/step - loss: 450.2512 - val_loss: 371.3495\n",
      "Epoch 36/1000\n",
      "7/7 [==============================] - 1s 175ms/step - loss: 325.7974 - val_loss: 268.0060\n",
      "Epoch 37/1000\n",
      "7/7 [==============================] - 1s 210ms/step - loss: 232.4698 - val_loss: 193.4885\n",
      "Epoch 38/1000\n",
      "7/7 [==============================] - 1s 184ms/step - loss: 165.5876 - val_loss: 139.4303\n",
      "Epoch 39/1000\n",
      "7/7 [==============================] - 1s 172ms/step - loss: 118.7988 - val_loss: 100.2212\n",
      "Epoch 40/1000\n",
      "7/7 [==============================] - 1s 184ms/step - loss: 84.2483 - val_loss: 72.2392\n",
      "Epoch 41/1000\n",
      "7/7 [==============================] - 1s 183ms/step - loss: 60.3010 - val_loss: 52.1100\n",
      "Epoch 42/1000\n",
      "7/7 [==============================] - 1s 190ms/step - loss: 42.8264 - val_loss: 38.0120\n",
      "Epoch 43/1000\n",
      "7/7 [==============================] - 1s 192ms/step - loss: 31.1905 - val_loss: 27.9766\n",
      "Epoch 44/1000\n",
      "7/7 [==============================] - 1s 165ms/step - loss: 22.4639 - val_loss: 21.0736\n",
      "Epoch 45/1000\n",
      "7/7 [==============================] - 1s 153ms/step - loss: 16.8692 - val_loss: 16.1642\n",
      "Epoch 46/1000\n",
      "7/7 [==============================] - 1s 175ms/step - loss: 13.0960 - val_loss: 12.6679\n",
      "Epoch 47/1000\n",
      "7/7 [==============================] - 1s 186ms/step - loss: 10.3341 - val_loss: 10.2660\n",
      "Epoch 48/1000\n",
      "7/7 [==============================] - 1s 178ms/step - loss: 8.5012 - val_loss: 8.6168\n",
      "Epoch 49/1000\n",
      "7/7 [==============================] - 1s 182ms/step - loss: 7.2623 - val_loss: 7.4473\n",
      "Epoch 50/1000\n",
      "7/7 [==============================] - 1s 171ms/step - loss: 6.3943 - val_loss: 6.6169\n",
      "Epoch 51/1000\n",
      "7/7 [==============================] - 1s 184ms/step - loss: 5.8114 - val_loss: 5.9823\n",
      "Epoch 52/1000\n",
      "7/7 [==============================] - 1s 155ms/step - loss: 5.4184 - val_loss: 5.5945\n",
      "Epoch 53/1000\n",
      "7/7 [==============================] - 1s 166ms/step - loss: 5.1933 - val_loss: 5.2914\n",
      "Epoch 54/1000\n",
      "7/7 [==============================] - 1s 164ms/step - loss: 5.0020 - val_loss: 5.0910\n",
      "Epoch 55/1000\n",
      "7/7 [==============================] - 1s 185ms/step - loss: 4.8970 - val_loss: 4.9338\n",
      "Epoch 56/1000\n",
      "7/7 [==============================] - 1s 180ms/step - loss: 4.8287 - val_loss: 4.8827\n",
      "Epoch 57/1000\n",
      "7/7 [==============================] - 1s 168ms/step - loss: 4.7763 - val_loss: 4.7607\n",
      "Epoch 58/1000\n",
      "7/7 [==============================] - 1s 187ms/step - loss: 4.7354 - val_loss: 4.7197\n",
      "Epoch 59/1000\n",
      "7/7 [==============================] - 1s 189ms/step - loss: 4.7072 - val_loss: 4.6871\n",
      "Epoch 60/1000\n",
      "7/7 [==============================] - 1s 159ms/step - loss: 4.6980 - val_loss: 4.6592\n",
      "Epoch 61/1000\n",
      "7/7 [==============================] - 1s 152ms/step - loss: 4.6868 - val_loss: 4.6532\n",
      "Epoch 62/1000\n",
      "7/7 [==============================] - 1s 160ms/step - loss: 4.6839 - val_loss: 4.6345\n",
      "Epoch 63/1000\n",
      "7/7 [==============================] - 1s 149ms/step - loss: 4.6726 - val_loss: 4.6105\n",
      "Epoch 64/1000\n",
      "7/7 [==============================] - 1s 161ms/step - loss: 4.6615 - val_loss: 4.5715\n",
      "Epoch 65/1000\n",
      "7/7 [==============================] - 1s 182ms/step - loss: 4.6483 - val_loss: 4.5638\n",
      "Epoch 66/1000\n",
      "7/7 [==============================] - 1s 157ms/step - loss: 4.6622 - val_loss: 4.5919\n",
      "Epoch 67/1000\n",
      "7/7 [==============================] - 1s 163ms/step - loss: 4.6578 - val_loss: 4.5735\n",
      "Epoch 68/1000\n",
      "7/7 [==============================] - 1s 157ms/step - loss: 4.6439 - val_loss: 4.5391\n",
      "Epoch 69/1000\n",
      "7/7 [==============================] - 1s 152ms/step - loss: 4.6426 - val_loss: 4.5420\n",
      "Epoch 70/1000\n",
      "7/7 [==============================] - 1s 158ms/step - loss: 4.6450 - val_loss: 4.5948\n",
      "Epoch 71/1000\n",
      "7/7 [==============================] - 1s 181ms/step - loss: 4.6702 - val_loss: 4.6138\n",
      "Epoch 72/1000\n",
      "7/7 [==============================] - 1s 199ms/step - loss: 4.6559 - val_loss: 4.5423\n",
      "Epoch 73/1000\n",
      "7/7 [==============================] - 1s 181ms/step - loss: 4.6309 - val_loss: 4.5088\n",
      "Epoch 74/1000\n",
      "7/7 [==============================] - 1s 185ms/step - loss: 4.6424 - val_loss: 4.5155\n",
      "Epoch 75/1000\n",
      "7/7 [==============================] - 1s 183ms/step - loss: 4.6361 - val_loss: 4.5339\n",
      "Epoch 76/1000\n",
      "7/7 [==============================] - 1s 146ms/step - loss: 4.6347 - val_loss: 4.5170\n",
      "Epoch 77/1000\n",
      "7/7 [==============================] - 1s 159ms/step - loss: 4.6518 - val_loss: 4.5150\n",
      "Epoch 78/1000\n",
      "7/7 [==============================] - 2s 320ms/step - loss: 4.6301 - val_loss: 4.5372\n",
      "Epoch 79/1000\n",
      "7/7 [==============================] - 2s 244ms/step - loss: 4.6721 - val_loss: 4.6379\n",
      "Epoch 80/1000\n",
      "7/7 [==============================] - 1s 170ms/step - loss: 4.6765 - val_loss: 4.6032\n",
      "Epoch 81/1000\n",
      "7/7 [==============================] - 1s 200ms/step - loss: 4.6492 - val_loss: 4.5177\n",
      "Epoch 82/1000\n",
      "7/7 [==============================] - 1s 196ms/step - loss: 4.6397 - val_loss: 4.5222\n",
      "Epoch 83/1000\n",
      "7/7 [==============================] - 1s 157ms/step - loss: 4.6414 - val_loss: 4.5478\n"
     ]
    }
   ],
   "source": [
    "early_stopping = tf.keras.callbacks.EarlyStopping(monitor='val_loss', patience=10, restore_best_weights=True)\n",
    "model_checkpoint = tf.keras.callbacks.ModelCheckpoint('best_model.keras', save_best_only=True, monitor='val_loss', mode='min')\n",
    "\n",
    "\n",
    "model = build_model()\n",
    "history = model.fit(X_train, y_train, validation_data=(X_test, y_test), epochs=1000, batch_size=32, verbose=1,\n",
    "                    callbacks=[early_stopping, model_checkpoint])\n"
   ]
  },
  {
   "cell_type": "markdown",
   "metadata": {},
   "source": [
    "### Grafiksel gösterim"
   ]
  },
  {
   "cell_type": "code",
   "execution_count": 11,
   "metadata": {},
   "outputs": [
    {
     "data": {
      "application/vnd.plotly.v1+json": {
       "config": {
        "plotlyServerURL": "https://plot.ly"
       },
       "data": [
        {
         "cliponaxis": false,
         "hovertemplate": [
          "n_layers (IntDistribution): 8.135721775464357e-05<extra></extra>",
          "n_units_l0 (IntDistribution): 0.012591817884271893<extra></extra>",
          "lr (FloatDistribution): 0.9873268248979735<extra></extra>"
         ],
         "name": "Objective Value",
         "orientation": "h",
         "text": [
          "<0.01",
          "0.01",
          "0.99"
         ],
         "textposition": "outside",
         "type": "bar",
         "x": [
          0.00008135721775464357,
          0.012591817884271893,
          0.9873268248979735
         ],
         "y": [
          "n_layers",
          "n_units_l0",
          "lr"
         ]
        }
       ],
       "layout": {
        "template": {
         "data": {
          "bar": [
           {
            "error_x": {
             "color": "#2a3f5f"
            },
            "error_y": {
             "color": "#2a3f5f"
            },
            "marker": {
             "line": {
              "color": "#E5ECF6",
              "width": 0.5
             },
             "pattern": {
              "fillmode": "overlay",
              "size": 10,
              "solidity": 0.2
             }
            },
            "type": "bar"
           }
          ],
          "barpolar": [
           {
            "marker": {
             "line": {
              "color": "#E5ECF6",
              "width": 0.5
             },
             "pattern": {
              "fillmode": "overlay",
              "size": 10,
              "solidity": 0.2
             }
            },
            "type": "barpolar"
           }
          ],
          "carpet": [
           {
            "aaxis": {
             "endlinecolor": "#2a3f5f",
             "gridcolor": "white",
             "linecolor": "white",
             "minorgridcolor": "white",
             "startlinecolor": "#2a3f5f"
            },
            "baxis": {
             "endlinecolor": "#2a3f5f",
             "gridcolor": "white",
             "linecolor": "white",
             "minorgridcolor": "white",
             "startlinecolor": "#2a3f5f"
            },
            "type": "carpet"
           }
          ],
          "choropleth": [
           {
            "colorbar": {
             "outlinewidth": 0,
             "ticks": ""
            },
            "type": "choropleth"
           }
          ],
          "contour": [
           {
            "colorbar": {
             "outlinewidth": 0,
             "ticks": ""
            },
            "colorscale": [
             [
              0,
              "#0d0887"
             ],
             [
              0.1111111111111111,
              "#46039f"
             ],
             [
              0.2222222222222222,
              "#7201a8"
             ],
             [
              0.3333333333333333,
              "#9c179e"
             ],
             [
              0.4444444444444444,
              "#bd3786"
             ],
             [
              0.5555555555555556,
              "#d8576b"
             ],
             [
              0.6666666666666666,
              "#ed7953"
             ],
             [
              0.7777777777777778,
              "#fb9f3a"
             ],
             [
              0.8888888888888888,
              "#fdca26"
             ],
             [
              1,
              "#f0f921"
             ]
            ],
            "type": "contour"
           }
          ],
          "contourcarpet": [
           {
            "colorbar": {
             "outlinewidth": 0,
             "ticks": ""
            },
            "type": "contourcarpet"
           }
          ],
          "heatmap": [
           {
            "colorbar": {
             "outlinewidth": 0,
             "ticks": ""
            },
            "colorscale": [
             [
              0,
              "#0d0887"
             ],
             [
              0.1111111111111111,
              "#46039f"
             ],
             [
              0.2222222222222222,
              "#7201a8"
             ],
             [
              0.3333333333333333,
              "#9c179e"
             ],
             [
              0.4444444444444444,
              "#bd3786"
             ],
             [
              0.5555555555555556,
              "#d8576b"
             ],
             [
              0.6666666666666666,
              "#ed7953"
             ],
             [
              0.7777777777777778,
              "#fb9f3a"
             ],
             [
              0.8888888888888888,
              "#fdca26"
             ],
             [
              1,
              "#f0f921"
             ]
            ],
            "type": "heatmap"
           }
          ],
          "heatmapgl": [
           {
            "colorbar": {
             "outlinewidth": 0,
             "ticks": ""
            },
            "colorscale": [
             [
              0,
              "#0d0887"
             ],
             [
              0.1111111111111111,
              "#46039f"
             ],
             [
              0.2222222222222222,
              "#7201a8"
             ],
             [
              0.3333333333333333,
              "#9c179e"
             ],
             [
              0.4444444444444444,
              "#bd3786"
             ],
             [
              0.5555555555555556,
              "#d8576b"
             ],
             [
              0.6666666666666666,
              "#ed7953"
             ],
             [
              0.7777777777777778,
              "#fb9f3a"
             ],
             [
              0.8888888888888888,
              "#fdca26"
             ],
             [
              1,
              "#f0f921"
             ]
            ],
            "type": "heatmapgl"
           }
          ],
          "histogram": [
           {
            "marker": {
             "pattern": {
              "fillmode": "overlay",
              "size": 10,
              "solidity": 0.2
             }
            },
            "type": "histogram"
           }
          ],
          "histogram2d": [
           {
            "colorbar": {
             "outlinewidth": 0,
             "ticks": ""
            },
            "colorscale": [
             [
              0,
              "#0d0887"
             ],
             [
              0.1111111111111111,
              "#46039f"
             ],
             [
              0.2222222222222222,
              "#7201a8"
             ],
             [
              0.3333333333333333,
              "#9c179e"
             ],
             [
              0.4444444444444444,
              "#bd3786"
             ],
             [
              0.5555555555555556,
              "#d8576b"
             ],
             [
              0.6666666666666666,
              "#ed7953"
             ],
             [
              0.7777777777777778,
              "#fb9f3a"
             ],
             [
              0.8888888888888888,
              "#fdca26"
             ],
             [
              1,
              "#f0f921"
             ]
            ],
            "type": "histogram2d"
           }
          ],
          "histogram2dcontour": [
           {
            "colorbar": {
             "outlinewidth": 0,
             "ticks": ""
            },
            "colorscale": [
             [
              0,
              "#0d0887"
             ],
             [
              0.1111111111111111,
              "#46039f"
             ],
             [
              0.2222222222222222,
              "#7201a8"
             ],
             [
              0.3333333333333333,
              "#9c179e"
             ],
             [
              0.4444444444444444,
              "#bd3786"
             ],
             [
              0.5555555555555556,
              "#d8576b"
             ],
             [
              0.6666666666666666,
              "#ed7953"
             ],
             [
              0.7777777777777778,
              "#fb9f3a"
             ],
             [
              0.8888888888888888,
              "#fdca26"
             ],
             [
              1,
              "#f0f921"
             ]
            ],
            "type": "histogram2dcontour"
           }
          ],
          "mesh3d": [
           {
            "colorbar": {
             "outlinewidth": 0,
             "ticks": ""
            },
            "type": "mesh3d"
           }
          ],
          "parcoords": [
           {
            "line": {
             "colorbar": {
              "outlinewidth": 0,
              "ticks": ""
             }
            },
            "type": "parcoords"
           }
          ],
          "pie": [
           {
            "automargin": true,
            "type": "pie"
           }
          ],
          "scatter": [
           {
            "fillpattern": {
             "fillmode": "overlay",
             "size": 10,
             "solidity": 0.2
            },
            "type": "scatter"
           }
          ],
          "scatter3d": [
           {
            "line": {
             "colorbar": {
              "outlinewidth": 0,
              "ticks": ""
             }
            },
            "marker": {
             "colorbar": {
              "outlinewidth": 0,
              "ticks": ""
             }
            },
            "type": "scatter3d"
           }
          ],
          "scattercarpet": [
           {
            "marker": {
             "colorbar": {
              "outlinewidth": 0,
              "ticks": ""
             }
            },
            "type": "scattercarpet"
           }
          ],
          "scattergeo": [
           {
            "marker": {
             "colorbar": {
              "outlinewidth": 0,
              "ticks": ""
             }
            },
            "type": "scattergeo"
           }
          ],
          "scattergl": [
           {
            "marker": {
             "colorbar": {
              "outlinewidth": 0,
              "ticks": ""
             }
            },
            "type": "scattergl"
           }
          ],
          "scattermapbox": [
           {
            "marker": {
             "colorbar": {
              "outlinewidth": 0,
              "ticks": ""
             }
            },
            "type": "scattermapbox"
           }
          ],
          "scatterpolar": [
           {
            "marker": {
             "colorbar": {
              "outlinewidth": 0,
              "ticks": ""
             }
            },
            "type": "scatterpolar"
           }
          ],
          "scatterpolargl": [
           {
            "marker": {
             "colorbar": {
              "outlinewidth": 0,
              "ticks": ""
             }
            },
            "type": "scatterpolargl"
           }
          ],
          "scatterternary": [
           {
            "marker": {
             "colorbar": {
              "outlinewidth": 0,
              "ticks": ""
             }
            },
            "type": "scatterternary"
           }
          ],
          "surface": [
           {
            "colorbar": {
             "outlinewidth": 0,
             "ticks": ""
            },
            "colorscale": [
             [
              0,
              "#0d0887"
             ],
             [
              0.1111111111111111,
              "#46039f"
             ],
             [
              0.2222222222222222,
              "#7201a8"
             ],
             [
              0.3333333333333333,
              "#9c179e"
             ],
             [
              0.4444444444444444,
              "#bd3786"
             ],
             [
              0.5555555555555556,
              "#d8576b"
             ],
             [
              0.6666666666666666,
              "#ed7953"
             ],
             [
              0.7777777777777778,
              "#fb9f3a"
             ],
             [
              0.8888888888888888,
              "#fdca26"
             ],
             [
              1,
              "#f0f921"
             ]
            ],
            "type": "surface"
           }
          ],
          "table": [
           {
            "cells": {
             "fill": {
              "color": "#EBF0F8"
             },
             "line": {
              "color": "white"
             }
            },
            "header": {
             "fill": {
              "color": "#C8D4E3"
             },
             "line": {
              "color": "white"
             }
            },
            "type": "table"
           }
          ]
         },
         "layout": {
          "annotationdefaults": {
           "arrowcolor": "#2a3f5f",
           "arrowhead": 0,
           "arrowwidth": 1
          },
          "autotypenumbers": "strict",
          "coloraxis": {
           "colorbar": {
            "outlinewidth": 0,
            "ticks": ""
           }
          },
          "colorscale": {
           "diverging": [
            [
             0,
             "#8e0152"
            ],
            [
             0.1,
             "#c51b7d"
            ],
            [
             0.2,
             "#de77ae"
            ],
            [
             0.3,
             "#f1b6da"
            ],
            [
             0.4,
             "#fde0ef"
            ],
            [
             0.5,
             "#f7f7f7"
            ],
            [
             0.6,
             "#e6f5d0"
            ],
            [
             0.7,
             "#b8e186"
            ],
            [
             0.8,
             "#7fbc41"
            ],
            [
             0.9,
             "#4d9221"
            ],
            [
             1,
             "#276419"
            ]
           ],
           "sequential": [
            [
             0,
             "#0d0887"
            ],
            [
             0.1111111111111111,
             "#46039f"
            ],
            [
             0.2222222222222222,
             "#7201a8"
            ],
            [
             0.3333333333333333,
             "#9c179e"
            ],
            [
             0.4444444444444444,
             "#bd3786"
            ],
            [
             0.5555555555555556,
             "#d8576b"
            ],
            [
             0.6666666666666666,
             "#ed7953"
            ],
            [
             0.7777777777777778,
             "#fb9f3a"
            ],
            [
             0.8888888888888888,
             "#fdca26"
            ],
            [
             1,
             "#f0f921"
            ]
           ],
           "sequentialminus": [
            [
             0,
             "#0d0887"
            ],
            [
             0.1111111111111111,
             "#46039f"
            ],
            [
             0.2222222222222222,
             "#7201a8"
            ],
            [
             0.3333333333333333,
             "#9c179e"
            ],
            [
             0.4444444444444444,
             "#bd3786"
            ],
            [
             0.5555555555555556,
             "#d8576b"
            ],
            [
             0.6666666666666666,
             "#ed7953"
            ],
            [
             0.7777777777777778,
             "#fb9f3a"
            ],
            [
             0.8888888888888888,
             "#fdca26"
            ],
            [
             1,
             "#f0f921"
            ]
           ]
          },
          "colorway": [
           "#636efa",
           "#EF553B",
           "#00cc96",
           "#ab63fa",
           "#FFA15A",
           "#19d3f3",
           "#FF6692",
           "#B6E880",
           "#FF97FF",
           "#FECB52"
          ],
          "font": {
           "color": "#2a3f5f"
          },
          "geo": {
           "bgcolor": "white",
           "lakecolor": "white",
           "landcolor": "#E5ECF6",
           "showlakes": true,
           "showland": true,
           "subunitcolor": "white"
          },
          "hoverlabel": {
           "align": "left"
          },
          "hovermode": "closest",
          "mapbox": {
           "style": "light"
          },
          "paper_bgcolor": "white",
          "plot_bgcolor": "#E5ECF6",
          "polar": {
           "angularaxis": {
            "gridcolor": "white",
            "linecolor": "white",
            "ticks": ""
           },
           "bgcolor": "#E5ECF6",
           "radialaxis": {
            "gridcolor": "white",
            "linecolor": "white",
            "ticks": ""
           }
          },
          "scene": {
           "xaxis": {
            "backgroundcolor": "#E5ECF6",
            "gridcolor": "white",
            "gridwidth": 2,
            "linecolor": "white",
            "showbackground": true,
            "ticks": "",
            "zerolinecolor": "white"
           },
           "yaxis": {
            "backgroundcolor": "#E5ECF6",
            "gridcolor": "white",
            "gridwidth": 2,
            "linecolor": "white",
            "showbackground": true,
            "ticks": "",
            "zerolinecolor": "white"
           },
           "zaxis": {
            "backgroundcolor": "#E5ECF6",
            "gridcolor": "white",
            "gridwidth": 2,
            "linecolor": "white",
            "showbackground": true,
            "ticks": "",
            "zerolinecolor": "white"
           }
          },
          "shapedefaults": {
           "line": {
            "color": "#2a3f5f"
           }
          },
          "ternary": {
           "aaxis": {
            "gridcolor": "white",
            "linecolor": "white",
            "ticks": ""
           },
           "baxis": {
            "gridcolor": "white",
            "linecolor": "white",
            "ticks": ""
           },
           "bgcolor": "#E5ECF6",
           "caxis": {
            "gridcolor": "white",
            "linecolor": "white",
            "ticks": ""
           }
          },
          "title": {
           "x": 0.05
          },
          "xaxis": {
           "automargin": true,
           "gridcolor": "white",
           "linecolor": "white",
           "ticks": "",
           "title": {
            "standoff": 15
           },
           "zerolinecolor": "white",
           "zerolinewidth": 2
          },
          "yaxis": {
           "automargin": true,
           "gridcolor": "white",
           "linecolor": "white",
           "ticks": "",
           "title": {
            "standoff": 15
           },
           "zerolinecolor": "white",
           "zerolinewidth": 2
          }
         }
        },
        "title": {
         "text": "Hyperparameter Importances"
        },
        "xaxis": {
         "title": {
          "text": "Hyperparameter Importance"
         }
        },
        "yaxis": {
         "title": {
          "text": "Hyperparameter"
         }
        }
       }
      }
     },
     "metadata": {},
     "output_type": "display_data"
    }
   ],
   "source": [
    "vis.plot_optimization_history(study)\n",
    "vis.plot_param_importances(study)"
   ]
  },
  {
   "cell_type": "code",
   "execution_count": 15,
   "metadata": {},
   "outputs": [
    {
     "name": "stdout",
     "output_type": "stream",
     "text": [
      "2/2 [==============================] - 0s 51ms/step\n",
      "R-squared: 0.60\n",
      "Mean Squared Error: 4.508835315704346\n",
      "Mean Absolute Error: 1.6871339082717896\n"
     ]
    },
    {
     "data": {
      "image/png": "[encoded data removed]",
      "text/plain": [
       "<Figure size 1200x600 with 1 Axes>"
      ]
     },
     "metadata": {},
     "output_type": "display_data"
    }
   ],
   "source": [
    "y_pred = model.predict(X_test).flatten()\n",
    "\n",
    "\n",
    "r2 = r2_score(y_test, y_pred)\n",
    "mse = mean_squared_error(y_test, y_pred)\n",
    "mae = mean_absolute_error(y_test, y_pred)\n",
    "print(f'R-squared: {r2:.2f}')\n",
    "print(f'Mean Squared Error: {mse}')\n",
    "print(f'Mean Absolute Error: {mae}')\n",
    "\n",
    "\n",
    "plt.figure(figsize=(12, 6))\n",
    "plt.plot(history.history['loss'])\n",
    "plt.plot(history.history['val_loss'])\n",
    "plt.title('Model loss')\n",
    "plt.ylabel('Loss')\n",
    "plt.xlabel('Epoch')\n",
    "plt.legend(['Train', 'Validation'], loc='upper right')\n",
    "plt.show()"
   ]
  },
  {
   "cell_type": "code",
   "execution_count": 13,
   "metadata": {},
   "outputs": [
    {
     "name": "stdout",
     "output_type": "stream",
     "text": [
      "2/2 [==============================] - 0s 53ms/step\n"
     ]
    },
    {
     "data": {
      "image/png": "[encoded data removed]",
      "text/plain": [
       "<Figure size 1000x500 with 2 Axes>"
      ]
     },
     "metadata": {},
     "output_type": "display_data"
    }
   ],
   "source": [
    "y_pred = model.predict(X_test).flatten()\n",
    "residuals = y_test - y_pred\n",
    "\n",
    "\n",
    "fig, axs = plt.subplots(nrows=1, ncols=2, figsize=(10, 5))\n",
    "\n",
    "\n",
    "axs[0].scatter(y_test, y_pred, alpha=0.3)\n",
    "axs[0].plot([y.min(), y.max()], [y.min(), y.max()], 'k--', lw=4)\n",
    "axs[0].set_xlabel('Actual')\n",
    "axs[0].set_ylabel('Predicted')\n",
    "axs[0].set_title('Actual vs. Predicted')\n",
    "\n",
    "\n",
    "axs[1].scatter(y_pred, residuals, alpha=0.3)\n",
    "axs[1].axhline(y=0, color='r', linestyle='--')\n",
    "axs[1].set_xlabel('Predicted')\n",
    "axs[1].set_ylabel('Residuals')\n",
    "axs[1].set_title('Residuals vs. Predicted')\n",
    "\n",
    "plt.tight_layout()\n",
    "plt.show()"
   ]
  }
 ],
 "metadata": {
  "kernelspec": {
   "display_name": "Python 3",
   "language": "python",
   "name": "python3"
  },
  "language_info": {
   "codemirror_mode": {
    "name": "ipython",
    "version": 3
   },
   "file_extension": ".py",
   "mimetype": "text/x-python",
   "name": "python",
   "nbconvert_exporter": "python",
   "pygments_lexer": "ipython3",
   "version": "3.10.2"
  }
 },
 "nbformat": 4,
 "nbformat_minor": 2
}
